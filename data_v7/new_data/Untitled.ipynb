{
 "cells": [
  {
   "cell_type": "code",
   "execution_count": 19,
   "id": "cde218c2",
   "metadata": {},
   "outputs": [
    {
     "name": "stderr",
     "output_type": "stream",
     "text": [
      "ERROR: Could not open requirements file: [Errno 2] No such file or directory: 'requirements.txt'\n"
     ]
    }
   ],
   "source": [
    "!pip install -r requirements.txt"
   ]
  },
  {
   "cell_type": "code",
   "execution_count": 1,
   "id": "c5db9c76",
   "metadata": {},
   "outputs": [],
   "source": [
    "import os"
   ]
  },
  {
   "cell_type": "code",
   "execution_count": 2,
   "id": "58f30040",
   "metadata": {},
   "outputs": [],
   "source": [
    "train_images_path = \"C:/Users/DELL/Desktop/ppev7/data_v7/new_data/images/train/images\"\n",
    "val_images_path = \"C:/Users/DELL/Desktop/ppev7/data_v7/new_data/images/valid/images\""
   ]
  },
  {
   "cell_type": "code",
   "execution_count": 11,
   "id": "60486336",
   "metadata": {},
   "outputs": [
    {
     "name": "stdout",
     "output_type": "stream",
     "text": [
      "Done\n"
     ]
    }
   ],
   "source": [
    "#Training Images\n",
    "with open('C:/Users/DELL/Desktop/ppev7/data_v7/new_data/train.txt', \"a+\") as f:\n",
    "  img_list = os.listdir(train_images_path)\n",
    "  for img in img_list:\n",
    "    f.write(os.path.join(train_images_path,img+'\\n'))\n",
    "  print(\"Done\")"
   ]
  },
  {
   "cell_type": "code",
   "execution_count": 13,
   "id": "45b53d0f",
   "metadata": {},
   "outputs": [
    {
     "name": "stdout",
     "output_type": "stream",
     "text": [
      "Done\n"
     ]
    }
   ],
   "source": [
    "#Validation Images\n",
    "with open('C:/Users/DELL/Desktop/ppev7/data_v7/new_data/val.txt', \"a+\") as f:\n",
    "  img_list = os.listdir(val_images_path)\n",
    "  for img in img_list:\n",
    "    f.write(os.path.join(val_images_path,img+'\\n'))\n",
    "  print(\"Done\")"
   ]
  },
  {
   "cell_type": "code",
   "execution_count": 17,
   "id": "5d69ea11",
   "metadata": {},
   "outputs": [
    {
     "ename": "SyntaxError",
     "evalue": "invalid syntax (2772140376.py, line 1)",
     "output_type": "error",
     "traceback": [
      "\u001b[1;36m  Cell \u001b[1;32mIn[17], line 1\u001b[1;36m\u001b[0m\n\u001b[1;33m    python \"C:/Users/DELL/Desktop/ppev7/yolov7/train.py\" --batch 16 --cfg \"C:/Users/DELL/Desktop/ppev7/yolov7/cfg/training/customv7.yaml\" --epochs 100 --data \"C:/Users/DELL/Desktop/ppev7/yolov7/data/custom.yaml\" --weights 'C:/Users/DELL/Desktop/ppev7/yolov7/yolov7.pt' --device 0\u001b[0m\n\u001b[1;37m           ^\u001b[0m\n\u001b[1;31mSyntaxError\u001b[0m\u001b[1;31m:\u001b[0m invalid syntax\n"
     ]
    }
   ],
   "source": [
    "python \"C:/Users/DELL/Desktop/ppev7/yolov7/train.py\" --batch 16 --cfg \"C:/Users/DELL/Desktop/ppev7/yolov7/cfg/training/customv7.yaml\" --epochs 100 --data \"C:/Users/DELL/Desktop/ppev7/yolov7/data/custom.yaml\" --weights 'C:/Users/DELL/Desktop/ppev7/yolov7/yolov7.pt' --device 0"
   ]
  },
  {
   "cell_type": "code",
   "execution_count": 3,
   "id": "b9bc0a48",
   "metadata": {},
   "outputs": [
    {
     "ename": "ModuleNotFoundError",
     "evalue": "No module named 'torch'",
     "output_type": "error",
     "traceback": [
      "\u001b[1;31m---------------------------------------------------------------------------\u001b[0m",
      "\u001b[1;31mModuleNotFoundError\u001b[0m                       Traceback (most recent call last)",
      "File \u001b[1;32m~\\Desktop\\ppev7\\yolov7\\train.py:12\u001b[0m\n\u001b[0;32m      9\u001b[0m \u001b[38;5;28;01mfrom\u001b[39;00m \u001b[38;5;21;01mthreading\u001b[39;00m \u001b[38;5;28;01mimport\u001b[39;00m Thread\n\u001b[0;32m     11\u001b[0m \u001b[38;5;28;01mimport\u001b[39;00m \u001b[38;5;21;01mnumpy\u001b[39;00m \u001b[38;5;28;01mas\u001b[39;00m \u001b[38;5;21;01mnp\u001b[39;00m\n\u001b[1;32m---> 12\u001b[0m \u001b[38;5;28;01mimport\u001b[39;00m \u001b[38;5;21;01mtorch\u001b[39;00m\u001b[38;5;21;01m.\u001b[39;00m\u001b[38;5;21;01mdistributed\u001b[39;00m \u001b[38;5;28;01mas\u001b[39;00m \u001b[38;5;21;01mdist\u001b[39;00m\n\u001b[0;32m     13\u001b[0m \u001b[38;5;28;01mimport\u001b[39;00m \u001b[38;5;21;01mtorch\u001b[39;00m\u001b[38;5;21;01m.\u001b[39;00m\u001b[38;5;21;01mnn\u001b[39;00m \u001b[38;5;28;01mas\u001b[39;00m \u001b[38;5;21;01mnn\u001b[39;00m\n\u001b[0;32m     14\u001b[0m \u001b[38;5;28;01mimport\u001b[39;00m \u001b[38;5;21;01mtorch\u001b[39;00m\u001b[38;5;21;01m.\u001b[39;00m\u001b[38;5;21;01mnn\u001b[39;00m\u001b[38;5;21;01m.\u001b[39;00m\u001b[38;5;21;01mfunctional\u001b[39;00m \u001b[38;5;28;01mas\u001b[39;00m \u001b[38;5;21;01mF\u001b[39;00m\n",
      "\u001b[1;31mModuleNotFoundError\u001b[0m: No module named 'torch'"
     ]
    }
   ],
   "source": [
    "%run \"C:/Users/DELL/Desktop/ppev7/yolov7/train.py\" --batch 16 --cfg \"C:/Users/DELL/Desktop/ppev7/yolov7/cfg/training/customv7.yaml\" --epochs 100 --data \"C:/Users/DELL/Desktop/ppev7/yolov7/data/custom.yaml\" --weights 'C:/Users/DELL/Desktop/ppev7/yolov7/yolov7.pt' --device 0\n"
   ]
  },
  {
   "cell_type": "code",
   "execution_count": null,
   "id": "0a64371a",
   "metadata": {},
   "outputs": [],
   "source": []
  }
 ],
 "metadata": {
  "kernelspec": {
   "display_name": "Python 3 (ipykernel)",
   "language": "python",
   "name": "python3"
  },
  "language_info": {
   "codemirror_mode": {
    "name": "ipython",
    "version": 3
   },
   "file_extension": ".py",
   "mimetype": "text/x-python",
   "name": "python",
   "nbconvert_exporter": "python",
   "pygments_lexer": "ipython3",
   "version": "3.11.5"
  }
 },
 "nbformat": 4,
 "nbformat_minor": 5
}
