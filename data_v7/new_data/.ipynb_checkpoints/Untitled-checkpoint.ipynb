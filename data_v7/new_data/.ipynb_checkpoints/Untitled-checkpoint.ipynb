{
 "cells": [
  {
   "cell_type": "code",
   "execution_count": 2,
   "id": "f8ce0dc7",
   "metadata": {},
   "outputs": [],
   "source": [
    "import os"
   ]
  },
  {
   "cell_type": "code",
   "execution_count": 10,
   "id": "0b756efc",
   "metadata": {},
   "outputs": [],
   "source": [
    "train_images_path = \"C:/Users/DELL/Desktop/ppev7/data_v7/new_data/images/train/images\"\n",
    "val_images_path = \"C:/Users/DELL/Desktop/ppev7/data_v7/new_data/images/valid/images\""
   ]
  },
  {
   "cell_type": "code",
   "execution_count": 11,
   "id": "20e7a22a",
   "metadata": {},
   "outputs": [
    {
     "name": "stdout",
     "output_type": "stream",
     "text": [
      "Done\n"
     ]
    }
   ],
   "source": [
    "#Training Images\n",
    "with open('C:/Users/DELL/Desktop/ppev7/data_v7/new_data/train.txt', \"a+\") as f:\n",
    "  img_list = os.listdir(train_images_path)\n",
    "  for img in img_list:\n",
    "    f.write(os.path.join(train_images_path,img+'\\n'))\n",
    "  print(\"Done\")"
   ]
  },
  {
   "cell_type": "code",
   "execution_count": 13,
   "id": "b9e916f0",
   "metadata": {},
   "outputs": [
    {
     "name": "stdout",
     "output_type": "stream",
     "text": [
      "Done\n"
     ]
    }
   ],
   "source": [
    "#Validation Images\n",
    "with open('C:/Users/DELL/Desktop/ppev7/data_v7/new_data/val.txt', \"a+\") as f:\n",
    "  img_list = os.listdir(val_images_path)\n",
    "  for img in img_list:\n",
    "    f.write(os.path.join(val_images_path,img+'\\n'))\n",
    "  print(\"Done\")"
   ]
  },
  {
   "cell_type": "code",
   "execution_count": null,
   "id": "42cfc146",
   "metadata": {},
   "outputs": [],
   "source": [
    "!python C:/Users/DELL/Desktop/ppev7/yolov7/train.py --batch 100 --cfg C:/Users/DELL/Desktop/ppev7/yolov7/cfg/training/customv7.yaml --epochs 500 --data /content/drive/MyDrive/ppev7/yolov7/data/custom.yaml --weights '/content/drive/MyDrive/ppev7/yolov7/yolov7.pt' --device 0"
   ]
  }
 ],
 "metadata": {
  "kernelspec": {
   "display_name": "Python 3 (ipykernel)",
   "language": "python",
   "name": "python3"
  },
  "language_info": {
   "codemirror_mode": {
    "name": "ipython",
    "version": 3
   },
   "file_extension": ".py",
   "mimetype": "text/x-python",
   "name": "python",
   "nbconvert_exporter": "python",
   "pygments_lexer": "ipython3",
   "version": "3.11.5"
  }
 },
 "nbformat": 4,
 "nbformat_minor": 5
}
